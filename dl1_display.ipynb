{
 "cells": [
  {
   "cell_type": "code",
   "execution_count": null,
   "id": "ranking-wheat",
   "metadata": {},
   "outputs": [],
   "source": [
    "import numpy as np\n",
    "import matplotlib.pyplot as plt\n",
    "\n",
    "from ctapipe.instrument import CameraGeometry\n",
    "from ctapipe.visualization import CameraDisplay\n",
    "from ctapipe.utils import get_dataset_path\n",
    "from ctapipe.io import EventSource\n",
    "from ctapipe.calib import CameraCalibrator\n",
    "from ctapipe.image.cleaning import tailcuts_clean\n",
    "from ctapipe.image.hillas import hillas_parameters\n",
    "from copy import deepcopy\n",
    "import os\n",
    "from ctapipe.io import read_table"
   ]
  },
  {
   "cell_type": "code",
   "execution_count": null,
   "id": "supposed-console",
   "metadata": {},
   "outputs": [],
   "source": [
    "filename = '/Users/thomasvuillaume/Work/CTA/Data/LST1/20200218/v0.6.1_v05/dl1_LST-1.Run02011.0000.h5'"
   ]
  },
  {
   "cell_type": "code",
   "execution_count": null,
   "id": "equipped-employer",
   "metadata": {},
   "outputs": [],
   "source": [
    "import tables"
   ]
  },
  {
   "cell_type": "code",
   "execution_count": null,
   "id": "lasting-laptop",
   "metadata": {},
   "outputs": [],
   "source": [
    "tab = tables.open_file(filename)"
   ]
  },
  {
   "cell_type": "code",
   "execution_count": null,
   "id": "equal-korea",
   "metadata": {},
   "outputs": [],
   "source": [
    "tab.root.configuration.instrument.telescope.camera.geometry_LSTCam"
   ]
  },
  {
   "cell_type": "code",
   "execution_count": null,
   "id": "ecological-postage",
   "metadata": {},
   "outputs": [],
   "source": [
    "tab.close()"
   ]
  },
  {
   "cell_type": "code",
   "execution_count": null,
   "id": "electrical-turkish",
   "metadata": {},
   "outputs": [],
   "source": [
    "geom_table.meta['PIX_TYPE']='hexa'"
   ]
  },
  {
   "cell_type": "code",
   "execution_count": null,
   "id": "functional-kingdom",
   "metadata": {},
   "outputs": [],
   "source": [
    "geom = CameraGeometry.from_name('LSTCam-002')"
   ]
  },
  {
   "cell_type": "code",
   "execution_count": null,
   "id": "interested-great",
   "metadata": {},
   "outputs": [],
   "source": [
    "image_table = read_table(filename, path='/dl1/event/telescope/image/LST_LSTCam')"
   ]
  },
  {
   "cell_type": "code",
   "execution_count": null,
   "id": "polyphonic-merchant",
   "metadata": {},
   "outputs": [],
   "source": [
    "len(image_table)"
   ]
  },
  {
   "cell_type": "code",
   "execution_count": null,
   "id": "optional-trash",
   "metadata": {},
   "outputs": [],
   "source": [
    "output_dir = 'lst1_images_v2'\n",
    "os.makedirs(output_dir, exist_ok=True)"
   ]
  },
  {
   "cell_type": "code",
   "execution_count": null,
   "id": "organizational-confusion",
   "metadata": {},
   "outputs": [],
   "source": [
    "visible_axis = True\n",
    "\n",
    "fig, axes = plt.subplots(1, 2, figsize=(15,5))\n",
    "\n",
    "d0 = CameraDisplay(geom, ax=axes[0])\n",
    "axes[0].set_title('charges')\n",
    "d0.add_colorbar(ax=axes[0])\n",
    "d0.colorbar.set_label('photo-electrons')\n",
    "\n",
    "d1 = CameraDisplay(geom, ax=axes[1])\n",
    "axes[1].set_title('times')\n",
    "d1.add_colorbar(ax=axes[1])\n",
    "d1.colorbar.set_label('nano-seconds')\n",
    "\n",
    "for ax in axes:\n",
    "        ax.get_xaxis().set_visible(visible_axis)\n",
    "        ax.get_yaxis().set_visible(visible_axis)\n",
    "        if not visible_axis:\n",
    "            ax.axis('off')\n",
    "            ax.set_title('')\n",
    "\n",
    "fig.patch.set_visible(visible_axis)\n",
    "\n",
    "for ii, (image, pulse_time) in enumerate(image_table['image', 'peak_time'][:100]):\n",
    "\n",
    "    d0.image = image\n",
    "    d1.image = pulse_time\n",
    "    \n",
    "    plt.savefig(os.path.join(output_dir, f'event_{ii}.png'), dpi=200, transparent=True)\n",
    "#     plt.show()"
   ]
  },
  {
   "cell_type": "code",
   "execution_count": null,
   "id": "funky-organic",
   "metadata": {},
   "outputs": [],
   "source": []
  }
 ],
 "metadata": {
  "kernelspec": {
   "display_name": "Python 3 (ipykernel)",
   "language": "python",
   "name": "python3"
  },
  "language_info": {
   "codemirror_mode": {
    "name": "ipython",
    "version": 3
   },
   "file_extension": ".py",
   "mimetype": "text/x-python",
   "name": "python",
   "nbconvert_exporter": "python",
   "pygments_lexer": "ipython3",
   "version": "3.8.12"
  }
 },
 "nbformat": 4,
 "nbformat_minor": 5
}
